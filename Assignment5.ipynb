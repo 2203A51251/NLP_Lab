{
  "nbformat": 4,
  "nbformat_minor": 0,
  "metadata": {
    "colab": {
      "provenance": [],
      "authorship_tag": "ABX9TyMc1K7zlRC2aFp5ODPD/rnP",
      "include_colab_link": true
    },
    "kernelspec": {
      "name": "python3",
      "display_name": "Python 3"
    },
    "language_info": {
      "name": "python"
    }
  },
  "cells": [
    {
      "cell_type": "markdown",
      "metadata": {
        "id": "view-in-github",
        "colab_type": "text"
      },
      "source": [
        "<a href=\"https://colab.research.google.com/github/2203A51251/NLP_Lab/blob/main/Assignment5.ipynb\" target=\"_parent\"><img src=\"https://colab.research.google.com/assets/colab-badge.svg\" alt=\"Open In Colab\"/></a>"
      ]
    },
    {
      "cell_type": "markdown",
      "source": [
        "**1. Implement a Hidden Markov Model (HMM) for weather forecasting, taking scenario where we have hidden weather states (e.g., \"Sunny\" and \"Rainy\") and observable events (e.g., \"Dry\", \"Damp\", \"Wet\"). The goal is to predict the sequence of weather states based on the observations. [CO2]**"
      ],
      "metadata": {
        "id": "LibICb1kSSfh"
      }
    },
    {
      "cell_type": "code",
      "source": [
        "import numpy as np\n",
        "from hmmlearn import hmm\n",
        "states = [\"Sunny\", \"Rainy\"]\n",
        "n_states = len(states)\n",
        "observations = [\"Dry\", \"Damp\", \"Wet\"]\n",
        "n_observations = len(observations)"
      ],
      "metadata": {
        "id": "m7vJlNrYRPb9"
      },
      "execution_count": 16,
      "outputs": []
    },
    {
      "cell_type": "markdown",
      "source": [
        "**2. Problem Setup**\n",
        "\n",
        "**States (S):** Hidden states representing the weather (e.g., \"Sunny\", \"Rainy\").\n",
        "\n",
        "**Observations (O):** Observable events that we can measure (e.g., \"Dry\", \"Damp\", \"Wet\").\n",
        "\n",
        "**Transition Probabilities (A):** The probability of transitioning from one weather state to another.\n",
        "\n",
        "**Emission Probabilities (B):** The probability of observing a certain event given the weather state.\n",
        "\n",
        "**Initial Probabilities (π):** The probability distribution over the initial states.t"
      ],
      "metadata": {
        "id": "ZDbzKrq8SdmS"
      }
    },
    {
      "cell_type": "code",
      "source": [
        "states=[\"Sunny\",\"Rainy\"]\n",
        "Observations=[\"Dry\",\"Damp\",\"Wet\"]\n",
        "start_prob = np.array([0.6, 0.4])"
      ],
      "metadata": {
        "id": "1RTe8iFxR9xd"
      },
      "execution_count": 17,
      "outputs": []
    },
    {
      "cell_type": "code",
      "source": [
        "transition_prob = np.array([\n",
        "    [0.7, 0.3],\n",
        "    [0.4, 0.6]\n",
        "])"
      ],
      "metadata": {
        "id": "XCfA_nsERRDa"
      },
      "execution_count": 18,
      "outputs": []
    },
    {
      "cell_type": "code",
      "source": [
        "emission_prob = np.array([\n",
        "    [0.6, 0.3, 0.1],\n",
        "    [0.1, 0.4, 0.5]\n",
        "])"
      ],
      "metadata": {
        "id": "VRll_qq2RzVm"
      },
      "execution_count": 19,
      "outputs": []
    },
    {
      "cell_type": "code",
      "source": [
        "model = hmm.MultinomialHMM(n_components=n_states)\n",
        "model.startprob_ = start_prob\n",
        "model.transmat_ = transition_prob\n",
        "model.emissionprob_ = emission_prob"
      ],
      "metadata": {
        "colab": {
          "base_uri": "https://localhost:8080/"
        },
        "id": "pbtbvYN-SBQv",
        "outputId": "2e0d1047-cde1-4359-fb30-4e9d4aa2a137"
      },
      "execution_count": 20,
      "outputs": [
        {
          "output_type": "stream",
          "name": "stderr",
          "text": [
            "WARNING:hmmlearn.hmm:MultinomialHMM has undergone major changes. The previous version was implementing a CategoricalHMM (a special case of MultinomialHMM). This new implementation follows the standard definition for a Multinomial distribution (e.g. as in https://en.wikipedia.org/wiki/Multinomial_distribution). See these issues for details:\n",
            "https://github.com/hmmlearn/hmmlearn/issues/335\n",
            "https://github.com/hmmlearn/hmmlearn/issues/340\n"
          ]
        }
      ]
    },
    {
      "cell_type": "markdown",
      "source": [
        "**3. Take different transition and emission probabilities or observation sequences on above problem and see how the model's predictions change. [CO2]**"
      ],
      "metadata": {
        "id": "PT06HjjUS9Nl"
      }
    },
    {
      "cell_type": "code",
      "source": [
        "observation_sequence = np.array([0, 1, 2, 0, 1]).reshape(-1, 1)\n",
        "print(\"Observation sequence:\", [observations[i[0]] for i in observation_sequence])\n",
        "new_observation_sequence = np.array([2, 2, 1, 0]).reshape(-1, 1)\n",
        "print(\"New Observation sequence:\", [observations[i[0]] for i in new_observation_sequence])"
      ],
      "metadata": {
        "colab": {
          "base_uri": "https://localhost:8080/"
        },
        "id": "x8z-3qLXSG3t",
        "outputId": "39962ed7-95a0-4819-fede-e16e1ee1fedd"
      },
      "execution_count": 21,
      "outputs": [
        {
          "output_type": "stream",
          "name": "stdout",
          "text": [
            "Observation sequence: ['Dry', 'Damp', 'Wet', 'Dry', 'Damp']\n",
            "New Observation sequence: ['Wet', 'Wet', 'Damp', 'Dry']\n"
          ]
        }
      ]
    }
  ]
}